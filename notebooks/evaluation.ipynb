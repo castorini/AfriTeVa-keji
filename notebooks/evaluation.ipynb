{
 "cells": [
  {
   "cell_type": "code",
   "execution_count": 61,
   "metadata": {},
   "outputs": [],
   "source": [
    "import json\n",
    "from functools import partial\n",
    "from pathlib import Path\n",
    "from string import Template\n",
    "\n",
    "import pandas as pd\n",
    "import seqio\n",
    "import tensorflow as tf\n",
    "import tensorflow_io as tfio\n",
    "from seqio.utils import map_over_dataset\n",
    "from t5.data.preprocessors import parse_tsv\n",
    "from t5.data.utils import rate_num_examples\n",
    "from t5.evaluation.metrics import accuracy, sklearn_metrics_wrapper\n",
    "from transformers import T5Tokenizer\n",
    "\n",
    "from teva.utils import get_dataset_statistics"
   ]
  },
  {
   "cell_type": "code",
   "execution_count": 42,
   "metadata": {},
   "outputs": [],
   "source": [
    "MASAKHANEWS_LANGUAGES = [\n",
    "    \"amh\", \"eng\", \"fra\", \"hau\",\n",
    "    \"ibo\", \"lin\", \"lug\", \"orm\", \n",
    "    \"pcm\", \"run\", \"sna\", \"som\", \n",
    "    \"swa\", \"tir\", \"xho\", \"yor\"\n",
    "]"
   ]
  },
  {
   "cell_type": "code",
   "execution_count": 43,
   "metadata": {},
   "outputs": [],
   "source": [
    "for language in MASAKHANEWS_LANGUAGES:\n",
    "    for split in [\"train\", \"dev\", \"test\"]:\n",
    "        pd.read_csv(f\"/home/aooladip/projects/AfriTeVa-keji/data/masakhanews/{language}/{split}.tsv\", sep=\"\\t\") \\\n",
    "            .to_json(f\"/home/aooladip/projects/AfriTeVa-keji/data/masakhanews/{language}/{split}.jsonl\", orient=\"records\", lines=True, force_ascii=False)"
   ]
  },
  {
   "cell_type": "code",
   "execution_count": null,
   "metadata": {},
   "outputs": [],
   "source": [
    "tokenizer = T5Tokenizer.from_pretrained(\"../tokenizers/v150000_new/sentencepiece.bpe.model\")"
   ]
  },
  {
   "cell_type": "code",
   "execution_count": null,
   "metadata": {},
   "outputs": [],
   "source": [
    "tokenizer.tokenize(\"politics\")      # Luckily for us, many labels are single tokens in our dictionary!"
   ]
  },
  {
   "cell_type": "code",
   "execution_count": 31,
   "metadata": {},
   "outputs": [],
   "source": [
    "DEFAULT_VOCAB = seqio.SentencePieceVocabulary(\"../tokenizers/v150000_new/sentencepiece.bpe.model\")"
   ]
  },
  {
   "cell_type": "code",
   "execution_count": 32,
   "metadata": {},
   "outputs": [],
   "source": [
    "DEFAULT_OUTPUT_FEATURES = {\n",
    "    \"inputs\": seqio.Feature(vocabulary=DEFAULT_VOCAB, add_eos=True, required=False),\n",
    "    \"targets\": seqio.Feature(vocabulary=DEFAULT_VOCAB, add_eos=True)\n",
    "}"
   ]
  },
  {
   "cell_type": "code",
   "execution_count": 8,
   "metadata": {},
   "outputs": [],
   "source": [
    "stats = get_dataset_statistics(\"../data/masakhanews/stats\")"
   ]
  },
  {
   "cell_type": "code",
   "execution_count": 9,
   "metadata": {},
   "outputs": [],
   "source": [
    "new_stats = {}"
   ]
  },
  {
   "cell_type": "code",
   "execution_count": 10,
   "metadata": {},
   "outputs": [],
   "source": [
    "for lang in stats['test']:\n",
    "    new_stats[lang] = {\n",
    "        split: stats[split][lang]\n",
    "        for split in [\"train\", \"dev\", \"test\"]\n",
    "    }"
   ]
  },
  {
   "cell_type": "code",
   "execution_count": 4,
   "metadata": {},
   "outputs": [],
   "source": [
    "MASAKHANEWS_LANGUAGES = [\n",
    "    \"amh\", \"eng\", \"fra\", \"hau\",\n",
    "    \"ibo\", \"lin\", \"lug\", \"orm\",\n",
    "    \"lug\", \"orm\", \"pcm\", \"run\",\n",
    "    \"sna\", \"som\", \"swa\", \"tir\",\n",
    "    \"xho\", \"yor\"\n",
    "]"
   ]
  },
  {
   "cell_type": "code",
   "execution_count": 69,
   "metadata": {},
   "outputs": [],
   "source": [
    "DATASET_PATH = Template(\"/home/aooladip/projects/AfriTeVa-keji/data/masakhanews/${language}/${split}.jsonl\")"
   ]
  },
  {
   "cell_type": "code",
   "execution_count": 18,
   "metadata": {},
   "outputs": [],
   "source": [
    "LABELS_PATH = Template(\"/home/aooladip/projects/AfriTeVa-keji/data/masakhanews/${language}/labels.txt\")"
   ]
  },
  {
   "cell_type": "code",
   "execution_count": 6,
   "metadata": {},
   "outputs": [],
   "source": [
    "lang = \"yor\""
   ]
  },
  {
   "cell_type": "code",
   "execution_count": 70,
   "metadata": {},
   "outputs": [],
   "source": [
    "source = seqio.TextLineDataSource(\n",
    "    split_to_filepattern={\n",
    "        \"train\": DATASET_PATH.substitute(split=\"train\", language=\"eng\"),\n",
    "        \"validation\": DATASET_PATH.substitute(split=\"dev\", language=\"eng\"),\n",
    "        \"test\": DATASET_PATH.substitute(split=\"test\", language=\"eng\")\n",
    "    }\n",
    ")"
   ]
  },
  {
   "cell_type": "code",
   "execution_count": 48,
   "metadata": {},
   "outputs": [],
   "source": [
    "ds = source.get_dataset(split=\"validation\")"
   ]
  },
  {
   "cell_type": "code",
   "execution_count": 49,
   "metadata": {},
   "outputs": [
    {
     "name": "stdout",
     "output_type": "stream",
     "text": [
      "tf.Tensor(b'{\"category\":\"business\",\"headline\":\"Rising costs leave Albrighton independent shops in limbo\",\"text\":\"Independent shops in a Shropshire village say they are \\\\\"in limbo\\\\\" as energy bills spiral.\\\\nVillage Butcher, in Albrighton, is the high street\\'s first casualty - it closed after its electricity bills more than doubled from \\xc2\\xa315,000 to \\xc2\\xa335,000.\\\\nBusinesses are not covered by an energy price cap, now \\xc2\\xa33,549 for households, and many face cost pressures.\\\\nIn Albrighton, business owners told the BBC they were concerned about raising their prices and losing customers.\\\\n\\\\\"If I put my bills up, am I going to lose clients?,\\\\\" asked Helen Pickering from Nieve Ella\\'s hair salon at the top of High Street.\\\\n\\\\\"A lot of my customers are the older generation and it\\'s horrible that they can\\'t afford to have their hair done,\\\\\" she said. \\\\n\\\\\"If I can keep my prices the same, and keep my clients coming in, at least then I will have money coming in to pay my bills.\\\\\"\\\\nNext door to Village Butcher is Number Seven Boutique. Amanda Potter, who runs it, is worried about the winter months.\\\\n\\\\\"A lot of people went on holiday this summer and they wanted to buy new clothing. That might not be the case next year,\\\\\" she said.\\\\nUnlike her neighbour the butcher, which needed to power freezers around the clock, the boutique is looking at options to reduce its energy use.\\\\n\\\\\"We normally have lights on in the window and they never go off, but I\\'m now looking to buy a timer so the lights can be switched off early,\\\\\" Ms Potter said.\\\\nAt the bottom of High Street is the Latte Da coffee shop. It is owned by Phil Taylor, who opened the caf\\xc3\\xa9 nine years ago. He is optimistic about surviving the tough times ahead.\\\\n\\\\\"We managed to get through the pandemic and now we face the energy crisis,\\\\\" he said.\\\\n\\\\\"We\\'re all in limbo, unsure how much our bills will rise. We get a lot of support from local customers and we\\'re trying to give them good value for money.\\\\\"\\\\nCurrent Chancellor Nadim Zahawi said the government was working on proposals for the new prime minister to consider which would include support for businesses.\\\\nFollow BBC West Midlands on Facebook, Twitter and Instagram. Send your story ideas to: newsonline.westmidlands@bbc.co.uk\",\"url\":\"\\\\/news\\\\/uk-england-shropshire-62686179\"}', shape=(), dtype=string)\n"
     ]
    }
   ],
   "source": [
    "for batch in ds:\n",
    "    print(batch)\n",
    "    break"
   ]
  },
  {
   "cell_type": "code",
   "execution_count": 22,
   "metadata": {},
   "outputs": [],
   "source": [
    "parser = partial(parse_tsv, field_names=[\"category\", \"headline\", \"text\", \"url\"])"
   ]
  },
  {
   "cell_type": "code",
   "execution_count": null,
   "metadata": {},
   "outputs": [],
   "source": [
    "def get_labels(labels_file: str):\n",
    "    with tf.io.gfile.GFile(labels_file) as f:\n",
    "        return f.read().splitlines()"
   ]
  },
  {
   "cell_type": "code",
   "execution_count": null,
   "metadata": {},
   "outputs": [],
   "source": [
    "SPECS = {\n",
    "    field: tf.TensorSpec(tf.TensorShape([]), tf.string, name=field)\n",
    "    for field in [\"category\", \"headline\", \"text\", \"url\"]\n",
    "}"
   ]
  },
  {
   "cell_type": "code",
   "execution_count": 66,
   "metadata": {},
   "outputs": [],
   "source": [
    "@map_over_dataset\n",
    "def jsonline_to_dict(line: str):\n",
    "    return tfio.experimental.serialization.decode_json(line, specs=SPECS)"
   ]
  },
  {
   "cell_type": "code",
   "execution_count": 24,
   "metadata": {},
   "outputs": [],
   "source": [
    "# We already confirmed that all labels are single tokens in our tokenizer vocabulary\n",
    "@map_over_dataset\n",
    "def create_news_classification_example(\n",
    "    example,\n",
    "    config = \"text\"\n",
    "):\n",
    "    return {\n",
    "        \"inputs\": tf.strings.join(\n",
    "            inputs=[\n",
    "                \"classify:\", \n",
    "                example['headline'] if config == 'headline_only' \n",
    "                else example['text'] if config == 'text' \n",
    "                else example['text'] + example['headline']],\n",
    "            separator=\" \"\n",
    "        ), \n",
    "        \"targets\": example[\"category\"]\n",
    "    }"
   ]
  },
  {
   "cell_type": "code",
   "execution_count": 27,
   "metadata": {},
   "outputs": [],
   "source": [
    "# Metric function factory\n",
    "def weighted_multiclass_f1(num_classes, **metric_fn_kwargs):\n",
    "    \"\"\"Computes the unweighted average of the F1 per class.\"\"\"\n",
    "    return sklearn_metrics_wrapper(\n",
    "        \"f1_score\",\n",
    "        metric_dict_str=\"weighted_%dclass_f1\" % num_classes,\n",
    "        metric_post_process_fn=lambda x: 100 * x,\n",
    "        beta=1,\n",
    "        labels=range(num_classes),\n",
    "        average=\"weighted\",\n",
    "        **metric_fn_kwargs\n",
    "    )\n"
   ]
  },
  {
   "cell_type": "code",
   "execution_count": 28,
   "metadata": {},
   "outputs": [],
   "source": [
    "weighted_f1 = weighted_multiclass_f1(len(get_labels(LABELS_PATH.substitute(language=\"eng\")))) "
   ]
  },
  {
   "cell_type": "code",
   "execution_count": 71,
   "metadata": {},
   "outputs": [],
   "source": [
    "task = seqio.Task(\n",
    "    name=\"yor_news\",\n",
    "    source=source,\n",
    "    preprocessors=[\n",
    "        jsonline_to_dict,\n",
    "        partial(create_news_classification_example, config=\"text\"),\n",
    "        seqio.preprocessors.tokenize,\n",
    "        seqio.preprocessors.append_eos_after_trim\n",
    "    ],\n",
    "    output_features=DEFAULT_OUTPUT_FEATURES,\n",
    "    metric_fns=[accuracy, weighted_f1]\n",
    ")"
   ]
  },
  {
   "cell_type": "code",
   "execution_count": 72,
   "metadata": {},
   "outputs": [],
   "source": [
    "yor_ds = task.get_dataset(split=\"test\", sequence_length={\"inputs\": 512, \"targets\": 2})"
   ]
  },
  {
   "cell_type": "code",
   "execution_count": 74,
   "metadata": {},
   "outputs": [
    {
     "name": "stdout",
     "output_type": "stream",
     "text": [
      "{'inputs_pretokenized': b'classify: grandparents of I\\'m a Celebrity... Get Me Out of Here! finalist Owen Warner have said they were \"so proud\" of his performance on the show.  \\nFormer Lioness Jill Scott was crowned queen of the jungle on Sunday, with the Hollyoaks actor coming second. \\nConservative MP Matt Hancock came third in the annual TV show.\\nWarner\\'s grandparents Anne and David Beck, who watched the final at home in Thurmaston, Leicestershire, said seeing him on the show had been \"surreal\". \\n23-year-old was one of 12 contestants to head to the Australian jungle for the first time since the pandemic. \\nHis grandad, who he affectionately calls The General, said he was \"very pleased\" with how well Warner did. \\n\"I\\'m extremely proud,\" he said. \\n\"He\\'s shown his true colours and it\\'s good to see him settling down.\\n\"He was in awe initially when he was in there with so many esteemed people, but he\\'s got used to them and he\\'s relaxed and taken it in his stride.\"\\nHis Grandmother, who he calls Nana-lar, said she could not believe what\\'s happened. \\n\"It\\'s just\\xc2\\xa0amazing really, just\\xc2\\xa0something you never thought would happen,\" she said. \\nFollow BBC East Midlands on Facebook, on Twitter, or on Instagram. Send your story ideas to eastmidsnews@bbc.co.uk.', 'inputs': array([  3397,  17600,    273, 144184,    287,    359,    269,    372,\n",
      "          267,  67620,    389,   8389,   1683,   9720,    287,   2273,\n",
      "          370,  73821,  21868,  25596,    616,   1086,    779,    545,\n",
      "          303,    590,  35656,    315,    287,    471,   5139,    330,\n",
      "          271,   2245,    261,  34804,  30275,    469,    266,  78761,\n",
      "         7655,    326, 103617,  51206,    287,    271,  53628,    330,\n",
      "         4787,    260,    380,    271,  70582,    306,  27973,  14155,\n",
      "        10331,   1480,    261,  30316,   4886,  10243, 109321,   3284,\n",
      "         3572,    272,    271,  11856,   1658,   2245,    261,  25596,\n",
      "          269,    266, 144184,   8473,    297,   2054,  37264,    260,\n",
      "          683,  67866,    271,   1752,    376,   2000,    272,  51847,\n",
      "          503,   9192,    260,  22596,  17237,    260,   1086,  30699,\n",
      "         1022,    330,    271,   2245,    599,    714,    303,   4501,\n",
      "        14135,    554,    259,    264,    278,    265,   4358,    265,\n",
      "         5510,    326,    712,    287,    259,    262,    264, 116705,\n",
      "          299,   3824,    299,    271,   6374,  53628,    355,    271,\n",
      "          716,    875,   1999,    271,  27149,    261,   2087,   2927,\n",
      "         1110,    260,    683,    467,  77325, 103174,  16971,    350,\n",
      "         2501,    260,   1086,    467,    326,    303,  43269,  83944,\n",
      "          315,    380,   2325,   1347,  25596,   1943,    261,    303,\n",
      "          571,    269,    372,  26474,  35656,    260,    315,    467,\n",
      "         1086,    261,    303,   5578,    269,    266,  12658,    471,\n",
      "         7924,  71054,    297,    491,    269,    266,   2585,    299,\n",
      "         2033,   1022, 108208,   2552,    261,    303,   5578,    326,\n",
      "          272,  11995,  12153,    987,    467,    326,    272,   1180,\n",
      "          380,    481,   1430,    259, 138373,    500,    997,    260,\n",
      "          649,    467,    269,    266,   6290,   1397,    299,   1253,\n",
      "          297,    467,    269,    266, 143485,    297,   4363,    491,\n",
      "          272,    471,  61034,    453,    883,   2087,   3345,  76564,\n",
      "          260,    683,    467,  16971,  25715,    265,   5229,    260,\n",
      "         1086,    898,   1970,    582,   8138,   1581,    269,    266,\n",
      "        19495,    261,    303,   8060,    269,    266,   1882,  33663,\n",
      "         7532,    260,   1882,   8568,    701,   3840,   7480,    988,\n",
      "        26418,    260,    315,    898,   1086,    261,  37382,   2084,\n",
      "         2673,  90057,    330,   1358,    260,    330,   1813,    260,\n",
      "          556,    330,   4153,    261,  40566,   1223,   3963,  16642,\n",
      "          299,   7026,  10720,    266,   4130,    994,  25657,    261,\n",
      "          709,    261,   3416,    261,      1], dtype=int32), 'targets_pretokenized': b'entertainment', 'targets': array([32060,     1], dtype=int32)}\n"
     ]
    }
   ],
   "source": [
    "for ex in yor_ds.as_numpy_iterator():\n",
    "    print(ex)\n",
    "    break"
   ]
  }
 ],
 "metadata": {
  "kernelspec": {
   "display_name": "tevakeji",
   "language": "python",
   "name": "python3"
  },
  "language_info": {
   "codemirror_mode": {
    "name": "ipython",
    "version": 3
   },
   "file_extension": ".py",
   "mimetype": "text/x-python",
   "name": "python",
   "nbconvert_exporter": "python",
   "pygments_lexer": "ipython3",
   "version": "3.8.16"
  },
  "orig_nbformat": 4
 },
 "nbformat": 4,
 "nbformat_minor": 2
}
